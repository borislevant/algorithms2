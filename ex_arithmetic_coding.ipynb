{
  "nbformat": 4,
  "nbformat_minor": 0,
  "metadata": {
    "colab": {
      "provenance": [],
      "authorship_tag": "ABX9TyPMII73VvsOPkfSbevoKLXv",
      "include_colab_link": true
    },
    "kernelspec": {
      "name": "python3",
      "display_name": "Python 3"
    },
    "language_info": {
      "name": "python"
    }
  },
  "cells": [
    {
      "cell_type": "markdown",
      "metadata": {
        "id": "view-in-github",
        "colab_type": "text"
      },
      "source": [
        "<a href=\"https://colab.research.google.com/github/borislevant/algorithms2/blob/main/ex_arithmetic_coding.ipynb\" target=\"_parent\"><img src=\"https://colab.research.google.com/assets/colab-badge.svg\" alt=\"Open In Colab\"/></a>"
      ]
    },
    {
      "cell_type": "markdown",
      "source": [
        "# Arithmetic coding excersise\n",
        "\n",
        "### Dr. Boris Levant\n",
        "### April 27, 2025\n"
      ],
      "metadata": {
        "id": "07VLUFcqZuAG"
      }
    },
    {
      "cell_type": "code",
      "execution_count": 1,
      "metadata": {
        "id": "TyyKxekvjmfA"
      },
      "outputs": [],
      "source": [
        "# The aleph-bet of the message\n",
        "# Defined as a dictionary\n",
        "# Keys of the dictionary are characters and the values are the intervals of the character\n",
        "C = {'a': [0, 0.2], 'b': [0.2, 0.3], 'c': [0.3, 0.5], 'd': [0.5, 0.8], 'e': [0.8, 1.0]}\n"
      ]
    },
    {
      "cell_type": "code",
      "source": [
        "def arithmetic_coding(text):\n",
        "    # Your code goes here\n",
        "\n",
        "    return 0\n",
        "\n",
        "def arithmetic_decoding(code):\n",
        "    # Your code goes here\n",
        "\n",
        "    return 0\n",
        ""
      ],
      "metadata": {
        "id": "ClyskqBPbyd4"
      },
      "execution_count": null,
      "outputs": []
    },
    {
      "cell_type": "code",
      "source": [],
      "metadata": {
        "id": "KMH7qihnj9iZ"
      },
      "execution_count": null,
      "outputs": []
    }
  ]
}