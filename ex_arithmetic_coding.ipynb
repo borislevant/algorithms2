{
  "nbformat": 4,
  "nbformat_minor": 0,
  "metadata": {
    "colab": {
      "provenance": [],
      "authorship_tag": "ABX9TyOU91CAvaifiPLYgkr40kKC",
      "include_colab_link": true
    },
    "kernelspec": {
      "name": "python3",
      "display_name": "Python 3"
    },
    "language_info": {
      "name": "python"
    }
  },
  "cells": [
    {
      "cell_type": "markdown",
      "metadata": {
        "id": "view-in-github",
        "colab_type": "text"
      },
      "source": [
        "<a href=\"https://colab.research.google.com/github/borislevant/algorithms2/blob/main/ex_arithmetic_coding.ipynb\" target=\"_parent\"><img src=\"https://colab.research.google.com/assets/colab-badge.svg\" alt=\"Open In Colab\"/></a>"
      ]
    },
    {
      "cell_type": "markdown",
      "source": [
        "# Arithmetic coding excersise\n",
        "\n",
        "### Dr. Boris Levant\n",
        "### April 27, 2025\n"
      ],
      "metadata": {
        "id": "07VLUFcqZuAG"
      }
    },
    {
      "cell_type": "code",
      "execution_count": null,
      "metadata": {
        "id": "TyyKxekvjmfA"
      },
      "outputs": [],
      "source": [
        "# The alphabet of the message\n",
        "# Defined as a dictionary\n",
        "# Keys of the dictionary are characters and the values are the intervals of the character\n",
        "C1 = {'a': [0, 0.2], 'e': [0.2, 0.5], 'i': [0.5, 0.6], 'o': [0.6, 0.8], 'u': [0.8, 0.9], '!': [0.9, 1.0]}\n",
        "C2 = {'1': [0, 0.67], '2': [0.67, 0.78], '3': [0.78, 0.85], '4': [0.85, 0.91], '5': [0.91, 0.96], '6': [0.96, 1.0]}\n"
      ]
    },
    {
      "cell_type": "code",
      "source": [
        "# The function returns the high bound of the symbol. Returns -1 if the symbol is not in alphabet\n",
        "def high_bound(symbol, alphabet):\n",
        "    if symbol in alphabet:\n",
        "        return alphabet[symbol][1]\n",
        "    else:\n",
        "        return -1\n",
        "\n",
        "# The function returns the low bound of the symbol. Returns -1 if the symbol is not in alphabet\n",
        "def low_bound(symbol, alphabet):\n",
        "    if symbol in alphabet:\n",
        "        return alphabet[symbol][0]\n",
        "    else:\n",
        "        return -1\n"
      ],
      "metadata": {
        "id": "Om65jT8MkFTZ"
      },
      "execution_count": null,
      "outputs": []
    },
    {
      "cell_type": "code",
      "source": [
        "def arithmetic_coding(text):\n",
        "    # Your code goes here\n",
        "\n",
        "    return 0\n",
        "\n",
        "def arithmetic_decoding(code):\n",
        "    # Your code goes here\n",
        "\n",
        "    return 0\n"
      ],
      "metadata": {
        "id": "ClyskqBPbyd4"
      },
      "execution_count": null,
      "outputs": []
    },
    {
      "cell_type": "markdown",
      "source": [
        "The following The following examples are taken from the Algorithm 2 presentation, specifically slides number 14 and 17.\n",
        "The first line should be 0.23355\n",
        "The output of the second line should be between 0.46940461 and 0.46944128.\n"
      ],
      "metadata": {
        "id": "a1ekcOQwlnPZ"
      }
    },
    {
      "cell_type": "code",
      "source": [
        "print(arithmetic_coding('eaii!'))\n",
        "print(arithmetic_coding('1211151121'))\n"
      ],
      "metadata": {
        "id": "KMH7qihnj9iZ"
      },
      "execution_count": null,
      "outputs": []
    }
  ]
}